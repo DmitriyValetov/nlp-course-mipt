{
 "cells": [
  {
   "cell_type": "code",
   "execution_count": 1,
   "metadata": {},
   "outputs": [],
   "source": [
    "import warnings\n",
    "warnings.filterwarnings('ignore')"
   ]
  },
  {
   "cell_type": "code",
   "execution_count": 3,
   "metadata": {},
   "outputs": [],
   "source": [
    "import pandas as pd\n",
    "import numpy as np\n",
    "from sklearn.cross_validation import KFold\n",
    "import seaborn as sns\n",
    "import string\n",
    "from sklearn.metrics import accuracy_score, f1_score, recall_score, precision_score\n",
    "\n",
    "import matplotlib.pyplot as plt\n",
    "%matplotlib inline"
   ]
  },
  {
   "cell_type": "markdown",
   "metadata": {},
   "source": [
    "# Классификация текстов\n",
    "Вам предстоит написать свой классификатор текстов."
   ]
  },
  {
   "cell_type": "markdown",
   "metadata": {},
   "source": [
    "### Читаем данные"
   ]
  },
  {
   "cell_type": "code",
   "execution_count": 4,
   "metadata": {},
   "outputs": [
    {
     "data": {
      "text/html": [
       "<div>\n",
       "<style scoped>\n",
       "    .dataframe tbody tr th:only-of-type {\n",
       "        vertical-align: middle;\n",
       "    }\n",
       "\n",
       "    .dataframe tbody tr th {\n",
       "        vertical-align: top;\n",
       "    }\n",
       "\n",
       "    .dataframe thead th {\n",
       "        text-align: right;\n",
       "    }\n",
       "</style>\n",
       "<table border=\"1\" class=\"dataframe\">\n",
       "  <thead>\n",
       "    <tr style=\"text-align: right;\">\n",
       "      <th></th>\n",
       "      <th>lang</th>\n",
       "      <th>text</th>\n",
       "    </tr>\n",
       "  </thead>\n",
       "  <tbody>\n",
       "    <tr>\n",
       "      <th>267430</th>\n",
       "      <td>ru</td>\n",
       "      <td>Приближался рассвет.  ГЛАВА ШЕСТАЯ В большом с...</td>\n",
       "    </tr>\n",
       "    <tr>\n",
       "      <th>182935</th>\n",
       "      <td>ru</td>\n",
       "      <td>Черт возьми, мне сказали, что вы арестованы, и...</td>\n",
       "    </tr>\n",
       "    <tr>\n",
       "      <th>214193</th>\n",
       "      <td>ru</td>\n",
       "      <td>Лишь первый маленький шаг на пути к нему, но н...</td>\n",
       "    </tr>\n",
       "    <tr>\n",
       "      <th>240204</th>\n",
       "      <td>en</td>\n",
       "      <td>Tom heard his mother's voice, the remembered c...</td>\n",
       "    </tr>\n",
       "    <tr>\n",
       "      <th>145677</th>\n",
       "      <td>ru</td>\n",
       "      <td>Мало, ох мало же вы понимаете в политике, пан ...</td>\n",
       "    </tr>\n",
       "  </tbody>\n",
       "</table>\n",
       "</div>"
      ],
      "text/plain": [
       "       lang                                               text\n",
       "267430   ru  Приближался рассвет.  ГЛАВА ШЕСТАЯ В большом с...\n",
       "182935   ru  Черт возьми, мне сказали, что вы арестованы, и...\n",
       "214193   ru  Лишь первый маленький шаг на пути к нему, но н...\n",
       "240204   en  Tom heard his mother's voice, the remembered c...\n",
       "145677   ru  Мало, ох мало же вы понимаете в политике, пан ..."
      ]
     },
     "execution_count": 4,
     "metadata": {},
     "output_type": "execute_result"
    }
   ],
   "source": [
    "data = pd.read_csv('train_data.csv', index_col=\"Unnamed: 0\")\n",
    "data.head()"
   ]
  },
  {
   "cell_type": "code",
   "execution_count": 5,
   "metadata": {},
   "outputs": [],
   "source": [
    "data.dropna(inplace=True)"
   ]
  },
  {
   "cell_type": "code",
   "execution_count": 6,
   "metadata": {},
   "outputs": [],
   "source": [
    "langs = np.unique(data.lang)"
   ]
  },
  {
   "cell_type": "code",
   "execution_count": 7,
   "metadata": {},
   "outputs": [
    {
     "data": {
      "text/plain": [
       "26"
      ]
     },
     "execution_count": 7,
     "metadata": {},
     "output_type": "execute_result"
    }
   ],
   "source": [
    "len(langs)"
   ]
  },
  {
   "cell_type": "markdown",
   "metadata": {},
   "source": [
    "* Посмотрим на число примеров по классам в выборке."
   ]
  },
  {
   "cell_type": "code",
   "execution_count": 8,
   "metadata": {},
   "outputs": [
    {
     "data": {
      "text/plain": [
       "<matplotlib.axes._subplots.AxesSubplot at 0x7f84a3483240>"
      ]
     },
     "execution_count": 8,
     "metadata": {},
     "output_type": "execute_result"
    },
    {
     "data": {
      "image/png": "[encoded data removed]",
      "text/plain": [
       "<matplotlib.figure.Figure at 0x7f84a34835f8>"
      ]
     },
     "metadata": {},
     "output_type": "display_data"
    }
   ],
   "source": [
    "plt.figure(figsize=(15, 7))\n",
    "data.lang.hist()"
   ]
  },
  {
   "cell_type": "markdown",
   "metadata": {},
   "source": [
    "* Разобьем данные на обучающую и тестовую"
   ]
  },
  {
   "cell_type": "code",
   "execution_count": 9,
   "metadata": {},
   "outputs": [],
   "source": [
    "from sklearn.model_selection import StratifiedShuffleSplit\n",
    "sss = StratifiedShuffleSplit(n_splits=1, test_size=0.2, random_state=0)\n",
    "train_index, test_index = next(sss.split(data.text, data.lang))\n",
    "train_data = data.iloc[train_index]\n",
    "test_data = data.iloc[test_index]"
   ]
  },
  {
   "cell_type": "markdown",
   "metadata": {},
   "source": [
    "## Часть 1. Предварительная обработка данных и классификация на правилах\n",
    "\n",
    "1. Протестируйте простой принцип классификации на правилах, например: \n",
    "    * Если в тексте встречается буква \"э\", то текст относится к классу \"ru\" (написан на русском, то есть)\n",
    "    * Если в тексте встречается буква \"ł\", то текст относится к классу \"pl\" (написан на польском, то есть)\n",
    "    * И любое другое правило, которое кажется вам разумным. "
   ]
  },
  {
   "cell_type": "code",
   "execution_count": null,
   "metadata": {},
   "outputs": [],
   "source": [
    "class RuleClassifer(object):\n",
    "    def __init__(self):\n",
    "        <your code here>\n",
    "\n",
    "    def fit(self, x_train, y_train):\n",
    "        \"\"\"\n",
    "        Метод обучает модель. может ничего не делать. Все правила могут быть заданы в predict.\n",
    "        \n",
    "        Parameters\n",
    "        ----------\n",
    "        x_train : list of str\n",
    "            Список обучающих текстов.\n",
    "        \n",
    "        y_train : list of str\n",
    "            Список меток классов (языков в нашем случае) для x_train\n",
    "            \n",
    "            \n",
    "        Returns\n",
    "        -------\n",
    "        self : object\n",
    "            Returns self\n",
    "        \"\"\"\n",
    "        <your code here>\n",
    "\n",
    "        return self\n",
    "    \n",
    "    def predict(self, text):\n",
    "        \"\"\"\n",
    "        Предсказывает метки классов (языки) для text по правилам.\n",
    "        \n",
    "        Parameters\n",
    "        ----------\n",
    "        text : list of str\n",
    "            Список строк для которых необходимо предсказать язык.\n",
    "        \n",
    "        Returns\n",
    "        -------\n",
    "        predictions : list of str\n",
    "            Возвращает список классов для text.\n",
    "        \"\"\"\n",
    "        predictions = []\n",
    "        <your code here>\n",
    "        return predictions\n",
    "\n",
    "    pass"
   ]
  },
  {
   "cell_type": "markdown",
   "metadata": {},
   "source": [
    "* Какова точность, полнота, аккуратность при использовании этих правил?"
   ]
  },
  {
   "cell_type": "code",
   "execution_count": null,
   "metadata": {},
   "outputs": [],
   "source": [
    "rclf = RuleClassifer().fit(train_data.text, train_data.lang)\n",
    "predictions = rclf.predict(test_data.text)"
   ]
  },
  {
   "cell_type": "code",
   "execution_count": null,
   "metadata": {},
   "outputs": [],
   "source": [
    "print(\"Precision: {0:6.5f}\".format(precision_score(test_data.lang, predictions, average='macro')))\n",
    "print(\"Recall: {0:6.5f}\".format(recall_score(test_data.lang, predictions, average='macro')))\n",
    "print(\"F1-measure: {0:6.5f}\".format(f1_score(test_data.lang, predictions, average='macro')))\n",
    "print(\"Accuracy: {0:6.2f}\".format(accuracy_score(test_data.lang, predictions)))"
   ]
  },
  {
   "cell_type": "markdown",
   "metadata": {},
   "source": [
    "2 . Определим сходство языков следующим образом: пусть $A_1$ и $A_2$ – множества символов из текстов на первом и втором языке соответственно (возможно, в этом случае разумно не исключать знаки пунктуации и учитывать регистр). Сходство языков измеряется по коэффициенту Жаккара: $\\frac{A_1 \\cap A_2}{A_1 \\cup A_2}$. Постройте heatmap сходства языков. "
   ]
  },
  {
   "cell_type": "code",
   "execution_count": null,
   "metadata": {},
   "outputs": [],
   "source": [
    "from nltk.metrics import jaccard_distance\n",
    "from itertools import combinations\n",
    "\n",
    "def get_map(<your code here>):\n",
    "    <your code here>"
   ]
  },
  {
   "cell_type": "code",
   "execution_count": null,
   "metadata": {},
   "outputs": [],
   "source": [
    "hm = <your code here>"
   ]
  },
  {
   "cell_type": "code",
   "execution_count": null,
   "metadata": {},
   "outputs": [],
   "source": [
    "plt.figure(figsize=(20, 10))\n",
    "sns.heatmap(\n",
    "    data=np.array(hm.values, dtype=np.float64),\n",
    "    \n",
    "    annot=True,\n",
    "    xticklabels=langs, yticklabels=langs)\n",
    "plt.title(\"Jaccard langs index\")\n",
    "plt.show()"
   ]
  },
  {
   "cell_type": "markdown",
   "metadata": {},
   "source": [
    "##  Часть 2. Базовый метод классификации\n",
    "\n",
    "Используйте метод наивного Байеса или логистическую регрессию для классификации текстов: в качестве признаков используйте символьные $n$-граммы. Сравните результаты, получаемые при разных $n=2,3,4$ по $F$-мере и аккуратности. Постройте диаграмму ошибок. Какие языке труднее всего разлечить? Какие проще всего?\n",
    "\n",
    "Для генерации $n$-грамм используйте:\n",
    "\n",
    "<pre>from nltk.util import ngrams</pre>\n",
    "\n",
    "или\n",
    "\n",
    "<pre>from sklearn.feature_extraction.text import CountVectorizer</pre>\n",
    "\n",
    "Для объединения процесса подготовки выборки и классификации используйте Pipeline"
   ]
  },
  {
   "cell_type": "code",
   "execution_count": null,
   "metadata": {},
   "outputs": [],
   "source": [
    "from sklearn.naive_bayes import MultinomialNB\n",
    "from sklearn.feature_extraction.text import CountVectorizer\n",
    "\n",
    "from sklearn.pipeline import Pipeline"
   ]
  },
  {
   "cell_type": "code",
   "execution_count": null,
   "metadata": {},
   "outputs": [],
   "source": [
    "clf = <yuor code here>"
   ]
  },
  {
   "cell_type": "markdown",
   "metadata": {},
   "source": [
    "* Обучите модель"
   ]
  },
  {
   "cell_type": "code",
   "execution_count": null,
   "metadata": {},
   "outputs": [],
   "source": [
    "%%time\n",
    "clf.fit(train_data.text, train_data.lang)"
   ]
  },
  {
   "cell_type": "markdown",
   "metadata": {},
   "source": [
    "* Посмотрим на метрики качества на тестовой выборке"
   ]
  },
  {
   "cell_type": "code",
   "execution_count": null,
   "metadata": {},
   "outputs": [],
   "source": [
    "predictions = clf.predict(test_data.text)"
   ]
  },
  {
   "cell_type": "code",
   "execution_count": null,
   "metadata": {},
   "outputs": [],
   "source": [
    "print(\"Precision: {0:6.5f}\".format(precision_score(test_data.lang, predictions, average='macro')))\n",
    "print(\"Recall: {0:6.5f}\".format(recall_score(test_data.lang, predictions, average='macro')))\n",
    "print(\"F1-measure: {0:6.5f}\".format(f1_score(test_data.lang, predictions, average='macro')))\n",
    "print(\"Accuracy: {0:6.5f}\".format(accuracy_score(test_data.lang, predictions)))"
   ]
  },
  {
   "cell_type": "markdown",
   "metadata": {},
   "source": [
    "* Постройте диаграмму ошибок"
   ]
  },
  {
   "cell_type": "code",
   "execution_count": null,
   "metadata": {},
   "outputs": [],
   "source": [
    "from sklearn.metrics import confusion_matrix\n",
    "plt.figure(figsize=(20, 10))\n",
    "sns.heatmap(data=confusion_matrix(test_data.lang, predictions), annot=True, cbar=False, xticklabels=langs, yticklabels=langs)\n",
    "plt.title(\"Confusion matrix\")\n",
    "plt.show()"
   ]
  },
  {
   "cell_type": "markdown",
   "metadata": {},
   "source": [
    "##  Часть 3. Продвинутые методы классфикации\n",
    "\n",
    "\n",
    "Используйте FastText. Постройте диаграмму ошибок. Какие языке труднее всего разлечить? Какие проще всего?\n",
    "\n",
    "Как использовать FastText: https://pypi.python.org/pypi/fasttext.\n",
    "\n",
    "Хороший туториал: https://www.tutorialkart.com/fasttext/train-and-test-supervised-text-classifier-using-fasttext/."
   ]
  },
  {
   "cell_type": "markdown",
   "metadata": {},
   "source": [
    "* Структура файла, который принимает fasttext должна быть следующего вида:\n",
    "\n",
    "\\_\\_label__ru Привет. Доброе утро. Пути народаа.\n",
    "\n",
    "где \"ru\" метка текста \"Привет. Доброе утро. Пути народаа.\"\n",
    "\n",
    "Несколько меток для одного текста можно задать так:\n",
    "\n",
    "\\_\\_label\\_\\_ru \\_\\_label\\_\\_en Good Morning. Дороу."
   ]
  },
  {
   "cell_type": "markdown",
   "metadata": {},
   "source": [
    "* Подготовьте данные для fasttext"
   ]
  },
  {
   "cell_type": "code",
   "execution_count": null,
   "metadata": {},
   "outputs": [],
   "source": [
    "def prc_for_fasttext(data, file_name):\n",
    "    <your code here>"
   ]
  },
  {
   "cell_type": "markdown",
   "metadata": {},
   "source": [
    "* Чтобы обучить модель, используем следующую команду"
   ]
  },
  {
   "cell_type": "code",
   "execution_count": null,
   "metadata": {},
   "outputs": [],
   "source": [
    "%%time\n",
    "ftclf = fasttext.supervised(\"train_data_ft.txt\", \"model\")"
   ]
  },
  {
   "cell_type": "markdown",
   "metadata": {},
   "source": [
    "* Протестируем на тестовых данных:"
   ]
  },
  {
   "cell_type": "code",
   "execution_count": null,
   "metadata": {},
   "outputs": [],
   "source": [
    "prc_for_fasttext(test_data, \"test_data_ft.txt\")"
   ]
  },
  {
   "cell_type": "code",
   "execution_count": null,
   "metadata": {},
   "outputs": [],
   "source": [
    "result = ftclf.test(\"test_data_ft.txt\")"
   ]
  },
  {
   "cell_type": "code",
   "execution_count": null,
   "metadata": {},
   "outputs": [],
   "source": [
    "print(\"Precision: {0:6.5f}\".format(result.precision))\n",
    "print(\"Recall: {0:6.5f}\".format(result.recall))"
   ]
  },
  {
   "cell_type": "markdown",
   "metadata": {},
   "source": [
    "* Постройте диаграмму ошибок"
   ]
  },
  {
   "cell_type": "code",
   "execution_count": null,
   "metadata": {},
   "outputs": [],
   "source": [
    "predictions = ftclf.predict(test_data.text.tolist())"
   ]
  },
  {
   "cell_type": "code",
   "execution_count": null,
   "metadata": {},
   "outputs": [],
   "source": [
    "plt.figure(figsize=(20, 10))\n",
    "sns.heatmap(data=confusion_matrix(test_data.lang, predictions), annot=True, cbar=False, xticklabels=langs, yticklabels=langs)\n",
    "plt.title(\"Confusion matrix\")\n",
    "plt.show()"
   ]
  }
 ],
 "metadata": {
  "kernelspec": {
   "display_name": "Python 3",
   "language": "python",
   "name": "python3"
  },
  "language_info": {
   "codemirror_mode": {
    "name": "ipython",
    "version": 3
   },
   "file_extension": ".py",
   "mimetype": "text/x-python",
   "name": "python",
   "nbconvert_exporter": "python",
   "pygments_lexer": "ipython3",
   "version": "3.4.3"
  }
 },
 "nbformat": 4,
 "nbformat_minor": 2
}

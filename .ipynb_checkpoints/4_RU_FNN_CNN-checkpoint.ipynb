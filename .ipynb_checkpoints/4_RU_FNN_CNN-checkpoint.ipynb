{
 "cells": [
  {
   "cell_type": "markdown",
   "metadata": {
    "slideshow": {
     "slide_type": "slide"
    }
   },
   "source": [
    "# Классификация текстов"
   ]
  },
  {
   "cell_type": "markdown",
   "metadata": {
    "slideshow": {
     "slide_type": "slide"
    }
   },
   "source": [
    "## Сеть прямого распространения  для классификации текстов\n",
    "\n",
    "\n",
    "![title](img/mlp.png)"
   ]
  },
  {
   "cell_type": "markdown",
   "metadata": {
    "slideshow": {
     "slide_type": "subslide"
    }
   },
   "source": [
    "* $x$ - входное векторное представление текста\n",
    "* $h$ – скрытые слои с нелинейными функциями активации\n",
    "* $y$ – выходы, как правило, один $y$ соответствует одной метке класса \n",
    "\n",
    "$NN_{MLP2}(x) = y$\n",
    "\n",
    "$h_1 = g^1(xW^1 + b^1)$\n",
    "\n",
    "$h_2 = g^2(h^1 W^2 + b^2)$\n",
    "\n",
    "$y = h^2 W^3$"
   ]
  },
  {
   "cell_type": "markdown",
   "metadata": {
    "slideshow": {
     "slide_type": "subslide"
    }
   },
   "source": [
    "### Нелинейные функции активации\n",
    "\n",
    "![title](img/activation.png)"
   ]
  },
  {
   "cell_type": "markdown",
   "metadata": {
    "slideshow": {
     "slide_type": "subslide"
    }
   },
   "source": [
    "### dropout-регуляризация\n",
    "\n",
    "$NN_{MLP2}(x) = y$\n",
    "\n",
    "$h_1 = g^1(xW^1 + b^1)$\n",
    "\n",
    "$m^1 ~ Bernouli(r^1)$\n",
    "\n",
    "$\\hat{h^1} = m^1 \\odot h^1$\n",
    "\n",
    "$h_2 = g^2(\\hat{h^1} W^2 + b^2)$\n",
    "\n",
    "$m^2 ~ Bernouli(r^2)$\n",
    "\n",
    "$\\hat{h^2} = m^2 \\odot h^2$\n",
    "\n",
    "$y =\\hat{h^2} W^3$\n",
    "\n"
   ]
  },
  {
   "cell_type": "markdown",
   "metadata": {
    "slideshow": {
     "slide_type": "subslide"
    }
   },
   "source": [
    "### Векторное представление текста \n",
    "* BOW (bag of words) – разреженное (sparse) векторное представление текста\n",
    "* CBOW (continious bag of words)  – плотное (dense) векторное представление текста\n",
    "\n",
    "$w_i$ – слово, $d_{emb}$ – размерность эмбеддинга слова, $E_{[w_i]}$ = $\\textbf{w}_i$\n",
    "\n",
    "\n",
    "#### Padding\n",
    "Входные тексты имеют переменную длинну, что неудобно, поэтому предположим, что они все состоят из одинакового количества слов, только часть из этих слов – баластные символы pad.\n",
    "\n",
    "\n",
    "#### Неизвестные слова (OOV)\n",
    "Если в тестовом множестве встретилось неизвестное слово, то можно \n",
    "* заменить его на pad;\n",
    "* заменить его на unk.  Однако в обучающем множестве unk никогда не встречается, поэтому его нужно добавить в обучающее множество искусственным образом. \n",
    "\n",
    "\n",
    "#### Word dropout - регуляризация \n",
    "Заменяем каждое слово на unk с вероятностью $\\frac{\\alpha}{|V| + \\alpha}$\n"
   ]
  },
  {
   "cell_type": "code",
   "execution_count": 1,
   "metadata": {
    "slideshow": {
     "slide_type": "slide"
    }
   },
   "outputs": [
    {
     "name": "stderr",
     "output_type": "stream",
     "text": [
      "/Library/Frameworks/Python.framework/Versions/3.6/lib/python3.6/site-packages/h5py/__init__.py:36: FutureWarning: Conversion of the second argument of issubdtype from `float` to `np.floating` is deprecated. In future, it will be treated as `np.float64 == np.dtype(float).type`.\n",
      "  from ._conv import register_converters as _register_converters\n",
      "Using TensorFlow backend.\n"
     ]
    }
   ],
   "source": [
    "from keras.preprocessing.text import Tokenizer\n",
    "from keras.preprocessing.sequence import pad_sequences\n",
    "from keras.utils import np_utils\n",
    "from sklearn.preprocessing import LabelBinarizer, LabelEncoder\n",
    "\n",
    "from keras.layers import Embedding, Input, Conv1D, MaxPooling1D, Flatten, Dense, Dropout\n",
    "from keras.models import Model, Sequential\n",
    "\n",
    "import pandas as pd\n",
    "import numpy as np\n",
    "\n",
    "import seaborn as sns\n",
    "\n",
    "import matplotlib.pyplot as plt\n",
    "\n",
    "import random\n",
    "random.seed(1228)\n",
    "\n",
    "from sklearn.metrics import precision_score, recall_score, accuracy_score, classification_report, confusion_matrix\n",
    "\n",
    "%matplotlib inline"
   ]
  },
  {
   "cell_type": "code",
   "execution_count": 2,
   "metadata": {
    "slideshow": {
     "slide_type": "subslide"
    }
   },
   "outputs": [],
   "source": [
    "data = pd.read_csv(\"/NLP/data/izvestya/articles_lemmatized_noSW.csv\")\n",
    "data = data[data.topic.isin((\"Культура\", \"Общество\", \"Политика\", \"Экономика\", \"Спорт\"))] \n",
    "train_corpus = pd.DataFrame(columns=data.columns)\n",
    "test_corpus = pd.DataFrame(columns=data.columns)\n",
    "\n",
    "for topic in data.topic.unique():\n",
    "    corpus_sample = data[data.topic==topic].sample(110)\n",
    "    train_corpus = train_corpus.append(corpus_sample.iloc[:100, :])\n",
    "    test_corpus = test_corpus.append(corpus_sample.iloc[100:, :])"
   ]
  },
  {
   "cell_type": "code",
   "execution_count": 3,
   "metadata": {
    "slideshow": {
     "slide_type": "slide"
    }
   },
   "outputs": [],
   "source": [
    "TEXT_LENGTH = 1800\n",
    "VOCABULARY_SIZE = 250000\n",
    "EMBEDDING_DIM = 300\n",
    "DIMS = 250\n",
    "MAX_FEATURES = 5000\n",
    "batch_size = 32\n",
    "\n",
    "nb_filter = 250\n",
    "filter_length = 3\n",
    "hidden_dims = 250\n",
    "nb_epoch = 10"
   ]
  },
  {
   "cell_type": "markdown",
   "metadata": {
    "slideshow": {
     "slide_type": "slide"
    }
   },
   "source": [
    "## Сеть прямого распространения"
   ]
  },
  {
   "cell_type": "code",
   "execution_count": 4,
   "metadata": {
    "slideshow": {
     "slide_type": "subslide"
    }
   },
   "outputs": [
    {
     "data": {
      "text/plain": [
       "<keras.preprocessing.text.Tokenizer at 0x11c889f28>"
      ]
     },
     "execution_count": 4,
     "metadata": {},
     "output_type": "execute_result"
    }
   ],
   "source": [
    "tokenizer = Tokenizer(num_words=MAX_FEATURES)\n",
    "tokenizer.fit_on_texts(train_corpus.body)\n",
    "tokenizer"
   ]
  },
  {
   "cell_type": "code",
   "execution_count": 5,
   "metadata": {
    "slideshow": {
     "slide_type": "subslide"
    }
   },
   "outputs": [],
   "source": [
    "sequences = tokenizer.texts_to_sequences(train_corpus.body)\n",
    "X_train = tokenizer.sequences_to_matrix(sequences, mode='count')\n",
    "sequences = tokenizer.texts_to_sequences(test_corpus.body)\n",
    "X_test = tokenizer.sequences_to_matrix(sequences, mode='count')"
   ]
  },
  {
   "cell_type": "code",
   "execution_count": 6,
   "metadata": {
    "slideshow": {
     "slide_type": "subslide"
    }
   },
   "outputs": [
    {
     "name": "stdout",
     "output_type": "stream",
     "text": [
      "First seq: [799, 2329, 4809, 3230, 3202, 1233, 2665, 1376, 3093, 887, 85, 3767, 799, 2329, 3230, 938, 2620, 374, 550, 208, 1376, 941, 2327, 1952, 3476, 486, 1, 2729, 2351, 1412, 17, 1803, 4062, 515, 184, 1989, 90, 1037, 1149, 109, 40, 538, 15, 358, 226, 1042, 3173, 2443, 25, 646, 1245, 1149, 693, 1367, 1982, 1189, 267, 40, 3193, 634, 4955, 2329, 306, 208, 455, 642, 110, 2260, 1376, 2024, 2334, 696, 676, 186, 1311, 391, 1993, 201, 1536, 1410, 2024, 2620, 1022, 1042, 101, 339, 928, 2242, 50, 488, 604, 130, 3945, 1954, 1421, 142, 3715, 308, 261, 3005, 928, 720, 40, 887, 85, 655, 3051, 390, 3292, 575, 1404, 2041, 80, 2620, 78, 4, 8, 109, 1376, 1377, 1582, 3972, 73, 56, 139, 1376, 3190, 3658, 1994, 798, 3, 520, 2785, 3105, 1089, 4775, 760, 3461, 730, 958, 888, 189, 114, 51, 123, 4938, 4947, 186, 4, 612, 2649, 400, 2121, 3872, 395, 89, 68, 642, 730, 136, 807, 1376, 1247, 935, 768, 357, 4908, 881, 887, 85, 1, 881, 1152, 1240, 82]\n",
      "First doc: [0. 0. 0. ... 0. 0. 0.]\n"
     ]
    }
   ],
   "source": [
    "print('First seq:',sequences[0])\n",
    "print('First doc:',X_train[0])"
   ]
  },
  {
   "cell_type": "code",
   "execution_count": 7,
   "metadata": {
    "slideshow": {
     "slide_type": "subslide"
    }
   },
   "outputs": [
    {
     "name": "stdout",
     "output_type": "stream",
     "text": [
      "[1. 0. 0. 0. 0.]\n"
     ]
    }
   ],
   "source": [
    "le = LabelEncoder()\n",
    "le.fit(train_corpus.topic.unique())\n",
    "y_train = np_utils.to_categorical(le.transform(train_corpus.topic), 5)\n",
    "y_test = np_utils.to_categorical(le.transform(test_corpus.topic), 5)\n",
    "y_true = le.transform(test_corpus.topic)\n",
    "print(y_train[0])"
   ]
  },
  {
   "cell_type": "code",
   "execution_count": 8,
   "metadata": {
    "slideshow": {
     "slide_type": "subslide"
    }
   },
   "outputs": [
    {
     "name": "stdout",
     "output_type": "stream",
     "text": [
      "Train on 450 samples, validate on 50 samples\n",
      "Epoch 1/10\n",
      "450/450 [==============================] - 1s 2ms/step - loss: 1.3629 - acc: 0.5022 - val_loss: 1.4553 - val_acc: 0.2600\n",
      "Epoch 2/10\n",
      "450/450 [==============================] - 0s 619us/step - loss: 0.4597 - acc: 0.9689 - val_loss: 1.0414 - val_acc: 0.6600\n",
      "Epoch 3/10\n",
      "450/450 [==============================] - 0s 552us/step - loss: 0.1975 - acc: 0.9889 - val_loss: 0.9226 - val_acc: 0.7000\n",
      "Epoch 4/10\n",
      "450/450 [==============================] - 0s 534us/step - loss: 0.0956 - acc: 0.9978 - val_loss: 0.9779 - val_acc: 0.6400\n",
      "Epoch 5/10\n",
      "450/450 [==============================] - 0s 518us/step - loss: 0.0528 - acc: 1.0000 - val_loss: 0.9958 - val_acc: 0.6000\n",
      "Epoch 6/10\n",
      "450/450 [==============================] - 0s 536us/step - loss: 0.0314 - acc: 1.0000 - val_loss: 0.9228 - val_acc: 0.6600\n",
      "Epoch 7/10\n",
      "450/450 [==============================] - 0s 502us/step - loss: 0.0224 - acc: 1.0000 - val_loss: 0.9250 - val_acc: 0.6800\n",
      "Epoch 8/10\n",
      "450/450 [==============================] - 0s 487us/step - loss: 0.0164 - acc: 1.0000 - val_loss: 0.9386 - val_acc: 0.7000\n",
      "Epoch 9/10\n",
      "450/450 [==============================] - 0s 533us/step - loss: 0.0120 - acc: 1.0000 - val_loss: 0.9531 - val_acc: 0.6800\n",
      "Epoch 10/10\n",
      "450/450 [==============================] - 0s 546us/step - loss: 0.0100 - acc: 1.0000 - val_loss: 0.9651 - val_acc: 0.6600\n"
     ]
    },
    {
     "data": {
      "text/plain": [
       "<keras.callbacks.History at 0x1250f2ef0>"
      ]
     },
     "execution_count": 8,
     "metadata": {},
     "output_type": "execute_result"
    }
   ],
   "source": [
    "model = Sequential()\n",
    "model.add(Dense(128, input_shape=(MAX_FEATURES,), activation = 'relu'))\n",
    "model.add(Dropout(0.1))\n",
    "model.add(Dense(5, activation = 'softmax'))\n",
    "model.compile(loss='categorical_crossentropy', optimizer='adam', metrics=['accuracy'])\n",
    "model.fit(X_train, y_train, epochs=nb_epoch, batch_size=batch_size,  validation_split=0.1)"
   ]
  },
  {
   "cell_type": "code",
   "execution_count": 9,
   "metadata": {
    "slideshow": {
     "slide_type": "subslide"
    }
   },
   "outputs": [
    {
     "name": "stdout",
     "output_type": "stream",
     "text": [
      "_________________________________________________________________\n",
      "Layer (type)                 Output Shape              Param #   \n",
      "=================================================================\n",
      "dense_1 (Dense)              (None, 128)               640128    \n",
      "_________________________________________________________________\n",
      "dropout_1 (Dropout)          (None, 128)               0         \n",
      "_________________________________________________________________\n",
      "dense_2 (Dense)              (None, 5)                 645       \n",
      "=================================================================\n",
      "Total params: 640,773\n",
      "Trainable params: 640,773\n",
      "Non-trainable params: 0\n",
      "_________________________________________________________________\n"
     ]
    }
   ],
   "source": [
    "model.summary()"
   ]
  },
  {
   "cell_type": "code",
   "execution_count": 10,
   "metadata": {
    "slideshow": {
     "slide_type": "subslide"
    }
   },
   "outputs": [
    {
     "name": "stdout",
     "output_type": "stream",
     "text": [
      "             precision    recall  f1-score   support\n",
      "\n",
      "          0       0.77      1.00      0.87        10\n",
      "          1       0.86      0.60      0.71        10\n",
      "          2       0.62      0.80      0.70        10\n",
      "          3       0.91      1.00      0.95        10\n",
      "          4       1.00      0.60      0.75        10\n",
      "\n",
      "avg / total       0.83      0.80      0.79        50\n",
      "\n"
     ]
    },
    {
     "name": "stderr",
     "output_type": "stream",
     "text": [
      "/Library/Frameworks/Python.framework/Versions/3.6/lib/python3.6/site-packages/sklearn/preprocessing/label.py:151: DeprecationWarning: The truth value of an empty array is ambiguous. Returning False, but in future this will result in an error. Use `array.size > 0` to check that an array is not empty.\n",
      "  if diff:\n",
      "/Library/Frameworks/Python.framework/Versions/3.6/lib/python3.6/site-packages/sklearn/preprocessing/label.py:151: DeprecationWarning: The truth value of an empty array is ambiguous. Returning False, but in future this will result in an error. Use `array.size > 0` to check that an array is not empty.\n",
      "  if diff:\n"
     ]
    },
    {
     "data": {
      "image/png": "[encoded data removed]",
      "text/plain": [
       "<matplotlib.figure.Figure at 0x12531c978>"
      ]
     },
     "metadata": {},
     "output_type": "display_data"
    }
   ],
   "source": [
    "y_pred = model.predict_classes(X_test)\n",
    "print(classification_report(y_true, y_pred))\n",
    "labels = test_corpus.topic.unique()\n",
    "y_true = le.inverse_transform(y_true)\n",
    "y_pred = le.inverse_transform(y_pred)\n",
    "sns.heatmap(data=confusion_matrix(y_true, y_pred, labels = labels), annot=True, fmt=\"d\", cbar=False, xticklabels=labels, yticklabels=labels)\n",
    "plt.title(\"Confusion matrix\")\n",
    "plt.show()"
   ]
  },
  {
   "cell_type": "code",
   "execution_count": 12,
   "metadata": {
    "slideshow": {
     "slide_type": "subslide"
    }
   },
   "outputs": [],
   "source": [
    "sequences = tokenizer.texts_to_sequences(train_corpus.body)\n",
    "X_train = pad_sequences(sequences, maxlen=TEXT_LENGTH)\n",
    "sequences = tokenizer.texts_to_sequences(test_corpus.body)\n",
    "X_test = pad_sequences(sequences, maxlen=TEXT_LENGTH)"
   ]
  },
  {
   "cell_type": "code",
   "execution_count": 13,
   "metadata": {
    "slideshow": {
     "slide_type": "subslide"
    }
   },
   "outputs": [
    {
     "data": {
      "text/plain": [
       "array([   0,    0,    0, ..., 4593,  633, 3703], dtype=int32)"
      ]
     },
     "execution_count": 13,
     "metadata": {},
     "output_type": "execute_result"
    }
   ],
   "source": [
    "X_train[0]"
   ]
  },
  {
   "cell_type": "code",
   "execution_count": null,
   "metadata": {
    "slideshow": {
     "slide_type": "subslide"
    }
   },
   "outputs": [
    {
     "name": "stdout",
     "output_type": "stream",
     "text": [
      "Train on 450 samples, validate on 50 samples\n",
      "Epoch 1/10\n",
      "192/450 [===========>..................] - ETA: 1:01 - loss: 10.2066 - acc: 0.2396"
     ]
    }
   ],
   "source": [
    "model = Sequential()\n",
    "model.add(Embedding(VOCABULARY_SIZE, EMBEDDING_DIM, input_length=TEXT_LENGTH))\n",
    "model.add(Flatten())\n",
    "model.add(Dense(128, activation = 'relu'))\n",
    "model.add(Dropout(0.1))\n",
    "model.add(Dense(5, activation = 'softmax'))\n",
    "model.compile(optimizer='adam', loss='binary_crossentropy', metrics=['acc'])\n",
    "model.compile(loss='categorical_crossentropy', optimizer='adam', metrics=['accuracy'])\n",
    "model.fit(X_train, y_train, epochs=nb_epoch, batch_size=batch_size,  validation_split=0.1)"
   ]
  },
  {
   "cell_type": "code",
   "execution_count": null,
   "metadata": {
    "slideshow": {
     "slide_type": "subslide"
    }
   },
   "outputs": [],
   "source": [
    "y_pred = model.predict_classes(X_test)\n",
    "y_pred = le.inverse_transform(y_pred)"
   ]
  },
  {
   "cell_type": "code",
   "execution_count": null,
   "metadata": {},
   "outputs": [],
   "source": [
    "print(classification_report(y_true, y_pred))\n",
    "sns.heatmap(data=confusion_matrix(y_true, y_pred, labels = labels), annot=True, fmt=\"d\", cbar=False, xticklabels=labels, yticklabels=labels)\n",
    "plt.title(\"Confusion matrix\")\n",
    "plt.show()"
   ]
  },
  {
   "cell_type": "code",
   "execution_count": null,
   "metadata": {
    "slideshow": {
     "slide_type": "subslide"
    }
   },
   "outputs": [],
   "source": [
    "%%time\n",
    "\n",
    "import numpy as np\n",
    "emb_path = '/NLP/embeddings/wiki.ru.vec'\n",
    "\n",
    "words = []\n",
    "\n",
    "embeddings_index = {}\n",
    "f = open(emb_path)\n",
    "for line in f:\n",
    "    values = line.split()\n",
    "    if len(values) == 301:\n",
    "        word = values[0]\n",
    "        words.append(word)\n",
    "        coefs = np.asarray(values[1:], dtype='float32')\n",
    "        embeddings_index[word] = coefs\n",
    "f.close()"
   ]
  },
  {
   "cell_type": "code",
   "execution_count": null,
   "metadata": {},
   "outputs": [],
   "source": [
    "print(len(embeddings_index))"
   ]
  },
  {
   "cell_type": "code",
   "execution_count": null,
   "metadata": {},
   "outputs": [],
   "source": [
    "word_index = tokenizer.word_index\n",
    "len(word_index)"
   ]
  },
  {
   "cell_type": "code",
   "execution_count": null,
   "metadata": {},
   "outputs": [],
   "source": [
    "embedding_matrix = np.zeros((len(word_index) + 1, EMBEDDING_DIM))\n",
    "for word, i in word_index.items():\n",
    "    embedding_vector = embeddings_index.get(word)\n",
    "    if embedding_vector is not None:\n",
    "        # words not found in embedding index will be all-zeros.\n",
    "        embedding_matrix[i] = embedding_vector"
   ]
  },
  {
   "cell_type": "code",
   "execution_count": null,
   "metadata": {},
   "outputs": [],
   "source": [
    "model = Sequential()\n",
    "model.add(Embedding(len(word_index) + 1,\n",
    "                            EMBEDDING_DIM,\n",
    "                            weights=[embedding_matrix],\n",
    "                            input_length=TEXT_LENGTH,\n",
    "                            trainable=False))\n",
    "model.add(Flatten())\n",
    "model.add(Dense(128, input_shape=(MAX_FEATURES,), activation = 'relu'))\n",
    "model.add(Dropout(0.1))\n",
    "model.add(Dense(5, activation = 'softmax'))\n",
    "model.compile(optimizer='adam', loss='binary_crossentropy', metrics=['acc'])\n",
    "model.compile(loss='categorical_crossentropy', optimizer='adam', metrics=['accuracy'])\n",
    "model.fit(X_train, y_train, epochs=nb_epoch, batch_size=batch_size,  validation_split=0.1)\n"
   ]
  },
  {
   "cell_type": "code",
   "execution_count": null,
   "metadata": {},
   "outputs": [],
   "source": [
    "y_pred = model.predict_classes(X_test)\n",
    "y_pred = le.inverse_transform(y_pred)"
   ]
  },
  {
   "cell_type": "code",
   "execution_count": null,
   "metadata": {
    "slideshow": {
     "slide_type": "subslide"
    }
   },
   "outputs": [],
   "source": [
    "print(classification_report(y_true, y_pred))\n",
    "sns.heatmap(data=confusion_matrix(y_true, y_pred, labels = labels), annot=True, fmt=\"d\", cbar=False, xticklabels=labels, yticklabels=labels)\n",
    "plt.title(\"Confusion matrix\")\n",
    "plt.show()"
   ]
  },
  {
   "cell_type": "markdown",
   "metadata": {
    "slideshow": {
     "slide_type": "slide"
    }
   },
   "source": [
    "## Сверточные нейронные сети [Convolutional neural networks, CNN]\n",
    "\n",
    "* Заимствованы из области компьютерного зрения\n",
    "* Пик популярности пришелся на 2014 (до +10% аккуратности в задачах классификации), со временем были вытеснены рекуррентными нейронными сетями \n",
    "* Помогают справится  с проблемой переменной длины входов (CNN VS window-based NN)"
   ]
  },
  {
   "cell_type": "markdown",
   "metadata": {
    "slideshow": {
     "slide_type": "subslide"
    }
   },
   "source": [
    "### Слой свертки\n",
    "\n",
    "#### Фильтр [filter]:\n",
    "* $w_{1,n}$ – последовательность слов, $k$  – размер окна\n",
    "* $w_i$ , $d_{emb}$ – размерность эмбеддинга слова,  $\\textbf{w}_i \\in \\mathbb{R}^{d_{emb}} $\n",
    "* $\\textbf{x}_i = [\\textbf{w}_{i}, \\textbf{w}_{i+1}, \\ldots, \\textbf{w}_{i+k-1}]$, $\\textbf{x}_i \\in \\mathbb{R}^{k d_{emb}}$\n",
    "\n",
    "Фильтр: $p_i = g(\\textbf{x}_i  u)$, $p_i \\in \\mathbb{R}$, $u \\in \\mathbb{R}^{k d_{emb}}$\n",
    "\n",
    "\n",
    "![title](img/cnn1.png)\n",
    "\n",
    "\n",
    "Преобразуем каждое входное окно, но пока размерность входа не уменьшается!"
   ]
  },
  {
   "cell_type": "markdown",
   "metadata": {
    "slideshow": {
     "slide_type": "subslide"
    }
   },
   "source": [
    "#### Слой субдискретизации (пулинга, [pooling])\n",
    "\n",
    "* $h_i$ – выходные значения фильтра\n",
    "\n",
    "$\\max$-пулинг:\t$c = \\max_i h_i$\n",
    "\n",
    "\n",
    "![title](img/cnn2.png)\n",
    "\n",
    "* Выбираем самый важный признак из полученных на предыдущем шаге \n",
    "* Можем использовать и $\\min$, и усреднение\n",
    "\n"
   ]
  },
  {
   "cell_type": "markdown",
   "metadata": {
    "slideshow": {
     "slide_type": "subslide"
    }
   },
   "source": [
    "### Классификатор на основе сверточной сети\n",
    "\n",
    "* $y \\in [0,1] $ - истинные значения\n",
    "* $\\widehat{y} = c$ - предсказанные значения\n",
    "\n",
    "![title](img/cnn3.png)\n",
    "\n",
    "Для обучения сверточной сети можно использовать обычный алгоритм распространения ошибки\n",
    "\n",
    "Одномерные фильтры – это сильное ограничение. Что делать, если $c=0.5$?"
   ]
  },
  {
   "cell_type": "markdown",
   "metadata": {
    "slideshow": {
     "slide_type": "subslide"
    }
   },
   "source": [
    "#### Многомерные фильтры\n",
    "\n",
    "Используем $\\textit{l}$ разных фильтров: $u_{1}, \\ldots, u_{\\textit{l}}$: \n",
    "\n",
    "$\\textbf{x}_i = [\\textbf{w}_{i}, \\textbf{w}_{i+1}, \\ldots, \\textbf{w}_{i+k-1}]$\n",
    "\n",
    "$\\textbf{p}_i = g(\\textbf{x}_i \\cdot  U+b)$\n",
    "\n",
    "$\\textbf{p}_i \\in \\mathbb{R}^{\\textit{l}} $, $\\textbf{x}_i \\in \\mathbb{R}^{k d_{emb}}$, $U \\in \\mathbb{R}^{k d_{emb} \\times \\textit{l}}$, $b \\in \\mathbb{R}^{\\textit{l}} $\n",
    "\n",
    "![title](img/cnn4.png)\n",
    "\n",
    "\n",
    "$\\max$-пулинг:\t$c_j = \\max_i h_{i,j}, j \\in [0,\\textit{l}]$\n"
   ]
  },
  {
   "cell_type": "markdown",
   "metadata": {
    "slideshow": {
     "slide_type": "subslide"
    }
   },
   "source": [
    "#### Шаг окна \n",
    "Можно использовать непересекающиеся окна, чтобы уменьшить объем вычисления\n",
    "\n",
    "![title](img/cnn5.png)"
   ]
  },
  {
   "cell_type": "markdown",
   "metadata": {
    "slideshow": {
     "slide_type": "subslide"
    }
   },
   "source": [
    "### Как выбирать вектора слов? \n",
    "* Случайная инициализация (если нет обученных моделей word2vec, GloVe)\n",
    "* word2vec, GloVe без обновления\n",
    "* word2vec, GloVe c обновлением на каждой эпохе (увеличивается количество параметров!)\n",
    "* Несколько каналов: копируем два входа и\n",
    "    * на один подаем word2vec и не обновляем эти входы во время обучения, на второй подаем word2vec и обновляем эти входы во время обучения\n",
    "    * на один вход подаем word2vec, на второй – GloVe"
   ]
  },
  {
   "cell_type": "markdown",
   "metadata": {
    "slideshow": {
     "slide_type": "subslide"
    }
   },
   "source": [
    "### Как использовать pad?\n",
    "\n",
    "[[мое первое короткое предложение], [второе очень длинное предложение, которое никогда не заканчивается], [третье предложение]]\n",
    "\n",
    "* Неэффективный способ: одно предложение – одна эпоха\n",
    "* Окружить все предложения баластными символами pad и сделать их одной длины\n",
    "* Надо убедиться, что $\\max$-пулинг не выберет значения, соответствующие pad\n",
    "* Надо убрать выбросы, то есть, супер-длинные предложения, возникшие, например, из-за ошибок сегментатора"
   ]
  },
  {
   "cell_type": "markdown",
   "metadata": {
    "slideshow": {
     "slide_type": "subslide"
    }
   },
   "source": [
    "## Классификация текстов с помощью CNN\n",
    "\n",
    "\n",
    "\n",
    "![title](img/cnn6.png)\n",
    "\n",
    "Kim Y. Convolutional Neural Networks for Sentence Classification. 2014"
   ]
  },
  {
   "cell_type": "markdown",
   "metadata": {},
   "source": [
    "![title](img/cnn7.png)\n",
    "\n",
    "Kim Y. Convolutional Neural Networks for Sentence Classification. 2014"
   ]
  },
  {
   "cell_type": "code",
   "execution_count": 23,
   "metadata": {
    "slideshow": {
     "slide_type": "slide"
    }
   },
   "outputs": [],
   "source": [
    "model = Sequential()\n",
    "model.add(Embedding(VOCABULARY_SIZE,\n",
    "                            EMBEDDING_DIM,\n",
    "                            input_length=TEXT_LENGTH,\n",
    "                            trainable=True))\n",
    "model.add(Conv1D(128, 5, activation='relu'))\n",
    "model.add(MaxPooling1D())\n",
    "model.add(Dropout(0.2))\n",
    "model.add(Flatten())\n",
    "model.add(Dense(5, activation = 'softmax'))\n",
    "model.compile(optimizer='adam', loss='binary_crossentropy', metrics=['acc'])\n",
    "model.compile(loss='categorical_crossentropy', optimizer='adam', metrics=['accuracy'])"
   ]
  },
  {
   "cell_type": "code",
   "execution_count": 24,
   "metadata": {
    "slideshow": {
     "slide_type": "subslide"
    }
   },
   "outputs": [],
   "source": [
    "y_pred = model.predict_classes(X_test)\n",
    "y_pred = le.inverse_transform(y_pred)"
   ]
  },
  {
   "cell_type": "code",
   "execution_count": 25,
   "metadata": {
    "slideshow": {
     "slide_type": "slide"
    }
   },
   "outputs": [
    {
     "name": "stderr",
     "output_type": "stream",
     "text": [
      "/Library/Frameworks/Python.framework/Versions/3.6/lib/python3.6/site-packages/sklearn/metrics/classification.py:1135: UndefinedMetricWarning: Precision and F-score are ill-defined and being set to 0.0 in labels with no predicted samples.\n",
      "  'precision', 'predicted', average, warn_for)\n"
     ]
    },
    {
     "name": "stdout",
     "output_type": "stream",
     "text": [
      "             precision    recall  f1-score   support\n",
      "\n",
      "   Культура       0.00      0.00      0.00        10\n",
      "   Общество       0.00      0.00      0.00        10\n",
      "   Политика       0.00      0.00      0.00        10\n",
      "      Спорт       0.20      1.00      0.33        10\n",
      "  Экономика       0.00      0.00      0.00        10\n",
      "\n",
      "avg / total       0.04      0.20      0.07        50\n",
      "\n"
     ]
    },
    {
     "data": {
      "image/png": "[encoded data removed]",
      "text/plain": [
       "<matplotlib.figure.Figure at 0x25e9c45c0>"
      ]
     },
     "metadata": {},
     "output_type": "display_data"
    }
   ],
   "source": [
    "print(classification_report(y_true, y_pred))\n",
    "sns.heatmap(data=confusion_matrix(y_true, y_pred, labels = labels), annot=True, fmt=\"d\", cbar=False, xticklabels=labels, yticklabels=labels)\n",
    "plt.title(\"Confusion matrix\")\n",
    "plt.show()"
   ]
  }
 ],
 "metadata": {
  "celltoolbar": "Slideshow",
  "kernelspec": {
   "display_name": "Python 3",
   "language": "python",
   "name": "python3"
  },
  "language_info": {
   "codemirror_mode": {
    "name": "ipython",
    "version": 3
   },
   "file_extension": ".py",
   "mimetype": "text/x-python",
   "name": "python",
   "nbconvert_exporter": "python",
   "pygments_lexer": "ipython3",
   "version": "3.6.0"
  }
 },
 "nbformat": 4,
 "nbformat_minor": 2
}
